{
 "cells": [
  {
   "cell_type": "markdown",
   "id": "ac9df1ab-2ed8-424d-be32-9abb7342ae93",
   "metadata": {},
   "source": [
    "# Data source"
   ]
  },
  {
   "cell_type": "markdown",
   "id": "64154657-b3bd-4baa-a9d1-885ea984cc76",
   "metadata": {},
   "source": [
    "The data for this notebook is pulled from https://www.alltime-athletics.com/m_100ok.htm\n",
    "\n",
    "Unfortunately, they do not provide the data in any downloadable format, so I have just copied their table to `mens-100m.txt`."
   ]
  },
  {
   "cell_type": "markdown",
   "id": "db65b97a-db70-438b-9a95-595122f753fb",
   "metadata": {},
   "source": [
    "# Converting to CSV for future convenience"
   ]
  },
  {
   "cell_type": "code",
   "execution_count": 1,
   "id": "5579b0ff-5a1e-4832-b588-6c3a8c779ba5",
   "metadata": {},
   "outputs": [],
   "source": [
    "import os\n",
    "import re\n",
    "\n",
    "def create_csv(input_path, output_path):\n",
    "    processed_lines = []\n",
    "    with open(input_path, 'r') as data:\n",
    "        for line in data:\n",
    "            line = line.strip()\n",
    "            columns = re.split(r'\\s{2,}', line)\n",
    "            processed_lines.append('\"' + '\",\"'.join(columns) + '\"')\n",
    "    \n",
    "    with open(output_path, 'w') as file:\n",
    "        file.write('\\n'.join(processed_lines))\n",
    "\n",
    "ALWAYS_REMAKE = False\n",
    "input_path = 'mens-100m.txt'\n",
    "output_path = 'mens-100m.csv'\n",
    "if ALWAYS_REMAKE or not os.path.isfile(output_path):\n",
    "    print('Creating CSV File...')\n",
    "    create_csv(input_path, output_path)"
   ]
  },
  {
   "cell_type": "markdown",
   "id": "277b02c3-967a-4881-8187-c6558b7fa4e4",
   "metadata": {},
   "source": [
    "# Loading the data"
   ]
  },
  {
   "cell_type": "code",
   "execution_count": 2,
   "id": "31a6bff4-a1b2-4509-9027-6f72817b3a46",
   "metadata": {},
   "outputs": [
    {
     "data": {
      "text/html": [
       "<div>\n",
       "<style scoped>\n",
       "    .dataframe tbody tr th:only-of-type {\n",
       "        vertical-align: middle;\n",
       "    }\n",
       "\n",
       "    .dataframe tbody tr th {\n",
       "        vertical-align: top;\n",
       "    }\n",
       "\n",
       "    .dataframe thead th {\n",
       "        text-align: right;\n",
       "    }\n",
       "</style>\n",
       "<table border=\"1\" class=\"dataframe\">\n",
       "  <thead>\n",
       "    <tr style=\"text-align: right;\">\n",
       "      <th></th>\n",
       "      <th>0</th>\n",
       "      <th>1</th>\n",
       "      <th>2</th>\n",
       "      <th>3</th>\n",
       "      <th>4</th>\n",
       "      <th>5</th>\n",
       "      <th>6</th>\n",
       "      <th>7</th>\n",
       "      <th>8</th>\n",
       "    </tr>\n",
       "  </thead>\n",
       "  <tbody>\n",
       "    <tr>\n",
       "      <th>0</th>\n",
       "      <td>1</td>\n",
       "      <td>9.58</td>\n",
       "      <td>+0.9</td>\n",
       "      <td>Usain Bolt</td>\n",
       "      <td>JAM</td>\n",
       "      <td>21.08.86</td>\n",
       "      <td>1</td>\n",
       "      <td>Berlin</td>\n",
       "      <td>16.08.2009</td>\n",
       "    </tr>\n",
       "    <tr>\n",
       "      <th>1</th>\n",
       "      <td>2</td>\n",
       "      <td>9.63</td>\n",
       "      <td>+1.5</td>\n",
       "      <td>Usain Bolt</td>\n",
       "      <td>JAM</td>\n",
       "      <td>21.08.86</td>\n",
       "      <td>1</td>\n",
       "      <td>London</td>\n",
       "      <td>05.08.2012</td>\n",
       "    </tr>\n",
       "    <tr>\n",
       "      <th>2</th>\n",
       "      <td>3</td>\n",
       "      <td>9.69</td>\n",
       "      <td>±0.0</td>\n",
       "      <td>Usain Bolt</td>\n",
       "      <td>JAM</td>\n",
       "      <td>21.08.86</td>\n",
       "      <td>1</td>\n",
       "      <td>Beijing</td>\n",
       "      <td>16.08.2008</td>\n",
       "    </tr>\n",
       "    <tr>\n",
       "      <th>3</th>\n",
       "      <td>3</td>\n",
       "      <td>9.69</td>\n",
       "      <td>+2.0</td>\n",
       "      <td>Tyson Gay</td>\n",
       "      <td>USA</td>\n",
       "      <td>09.08.82</td>\n",
       "      <td>1</td>\n",
       "      <td>Shanghai</td>\n",
       "      <td>20.09.2009</td>\n",
       "    </tr>\n",
       "    <tr>\n",
       "      <th>4</th>\n",
       "      <td>3</td>\n",
       "      <td>9.69</td>\n",
       "      <td>-0.1</td>\n",
       "      <td>Yohan Blake</td>\n",
       "      <td>JAM</td>\n",
       "      <td>26.12.89</td>\n",
       "      <td>1</td>\n",
       "      <td>Lausanne</td>\n",
       "      <td>23.08.2012</td>\n",
       "    </tr>\n",
       "  </tbody>\n",
       "</table>\n",
       "</div>"
      ],
      "text/plain": [
       "   0     1     2            3    4         5  6         7           8\n",
       "0  1  9.58  +0.9   Usain Bolt  JAM  21.08.86  1    Berlin  16.08.2009\n",
       "1  2  9.63  +1.5   Usain Bolt  JAM  21.08.86  1    London  05.08.2012\n",
       "2  3  9.69  ±0.0   Usain Bolt  JAM  21.08.86  1   Beijing  16.08.2008\n",
       "3  3  9.69  +2.0    Tyson Gay  USA  09.08.82  1  Shanghai  20.09.2009\n",
       "4  3  9.69  -0.1  Yohan Blake  JAM  26.12.89  1  Lausanne  23.08.2012"
      ]
     },
     "execution_count": 2,
     "metadata": {},
     "output_type": "execute_result"
    }
   ],
   "source": [
    "import pandas as pd\n",
    "\n",
    "dt = pd.read_csv('mens-100m.csv', header=None, quotechar='\"')\n",
    "dt.head()"
   ]
  },
  {
   "cell_type": "code",
   "execution_count": null,
   "id": "420a55b3-252f-4d36-9310-9ca19f4a9c9f",
   "metadata": {},
   "outputs": [],
   "source": []
  }
 ],
 "metadata": {
  "kernelspec": {
   "display_name": "Python 3 (ipykernel)",
   "language": "python",
   "name": "python3"
  },
  "language_info": {
   "codemirror_mode": {
    "name": "ipython",
    "version": 3
   },
   "file_extension": ".py",
   "mimetype": "text/x-python",
   "name": "python",
   "nbconvert_exporter": "python",
   "pygments_lexer": "ipython3",
   "version": "3.11.5"
  }
 },
 "nbformat": 4,
 "nbformat_minor": 5
}
